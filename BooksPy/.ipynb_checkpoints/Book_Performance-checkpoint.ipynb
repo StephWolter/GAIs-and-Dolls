{
 "cells": [
  {
   "cell_type": "code",
   "execution_count": null,
   "id": "11f48223",
   "metadata": {},
   "outputs": [],
   "source": [
    "# Dependencies\n",
    "import requests\n",
    "import pandas as pd\n",
    "import pprint as pp\n",
    "import numpy as np\n",
    "from time import sleep\n",
    "from api_keys import gbooks_apikey"
   ]
  },
  {
   "cell_type": "code",
   "execution_count": null,
   "id": "a44aeef4",
   "metadata": {},
   "outputs": [],
   "source": [
    "# Store NYT bestseller data as a pandas dataframe\n",
    "books_df = pd.read_csv('NYT_Bestsellers.csv')\n",
    "books_df"
   ]
  },
  {
   "cell_type": "code",
   "execution_count": null,
   "id": "01b70ae2",
   "metadata": {},
   "outputs": [],
   "source": [
    "# Pull "
   ]
  },
  {
   "cell_type": "code",
   "execution_count": null,
   "id": "cea440d4",
   "metadata": {},
   "outputs": [],
   "source": [
    "# Check for duplicates\n",
    "duplicates = books_df[books_df.duplicated('Primary ISBN13', keep=False) == True]\n",
    "duplicates"
   ]
  },
  {
   "cell_type": "code",
   "execution_count": null,
   "id": "3891cd0d",
   "metadata": {},
   "outputs": [],
   "source": [
    "# Create a new dataframe with duplicates removed\n",
    "books_clean = books_df.drop_duplicates(subset='Primary ISBN13', keep='first')\n",
    "books_clean.reset_index(inplace=True, drop=True)\n",
    "books_clean"
   ]
  },
  {
   "cell_type": "code",
   "execution_count": null,
   "id": "29678ab1",
   "metadata": {},
   "outputs": [],
   "source": [
    "# Copy books_clean (avoids a red warning message) and add columns for Google Book reviews and review count\n",
    "gbooks_df = books_clean.copy()\n",
    "gbooks_df['Average Google Review'] = ''\n",
    "gbooks_df['Google Review Count'] = ''\n",
    "gbooks_df"
   ]
  },
  {
   "cell_type": "code",
   "execution_count": null,
   "id": "56ff8a24",
   "metadata": {},
   "outputs": [],
   "source": [
    "# Loop through dataframe\n",
    "for index, row in gbooks_df.iterrows():\n",
    "    \n",
    "    # Search parameter is ISBN13\n",
    "    isbn = gbooks_df.loc[index,'Primary ISBN13']\n",
    "    \n",
    "    # URL for API request\n",
    "    gurl = f\"https://www.googleapis.com/books/v1/volumes?q=isbn:{isbn}&key={gbooks_apikey}\"\n",
    "    \n",
    "    # Make request\n",
    "    response = requests.get(gurl).json()\n",
    "\n",
    "    try:\n",
    "        \n",
    "    # Pull rating and rating count from response\n",
    "    rating = response['items'][0]['volumeInfo']['averageRating']\n",
    "    review_count = response['items'][0]['volumeInfo']['ratingsCount']\n",
    "\n",
    "    # Add rating and review count to gbooks dataframe\n",
    "    gbooks_df.loc[index, 'Average Google Review'] = rating\n",
    "    gbooks_df.loc[index, 'Google Review Count'] = review_count\n",
    "\n",
    "    # If no average rating or API request fails, pass\n",
    "    except (KeyError, IndexError) as error:\n",
    "        pass"
   ]
  },
  {
   "cell_type": "code",
   "execution_count": null,
   "id": "04b142d2",
   "metadata": {},
   "outputs": [],
   "source": [
    "gbooks_df"
   ]
  },
  {
   "cell_type": "code",
   "execution_count": null,
   "id": "d5bb55da",
   "metadata": {},
   "outputs": [],
   "source": [
    "# Sort dataframe by weeks on nyt bestseller list\n",
    "gbooks_df['Google Review Count'] = pd.to_numeric(gbooks_df['Google Review Count'])\n",
    "gbooks_sorted = gbooks_df.sort_values(by='Google Review Count', ascending=False)\n",
    "gbooks_sorted.head(50)"
   ]
  },
  {
   "cell_type": "code",
   "execution_count": null,
   "id": "858d6074",
   "metadata": {},
   "outputs": [],
   "source": []
  }
 ],
 "metadata": {
  "kernelspec": {
   "display_name": "Python 3 (ipykernel)",
   "language": "python",
   "name": "python3"
  },
  "language_info": {
   "codemirror_mode": {
    "name": "ipython",
    "version": 3
   },
   "file_extension": ".py",
   "mimetype": "text/x-python",
   "name": "python",
   "nbconvert_exporter": "python",
   "pygments_lexer": "ipython3",
   "version": "3.9.13"
  }
 },
 "nbformat": 4,
 "nbformat_minor": 5
}
